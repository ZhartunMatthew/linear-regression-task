{
 "cells": [
  {
   "cell_type": "code",
   "execution_count": 1,
   "metadata": {
    "collapsed": true
   },
   "outputs": [],
   "source": [
    "import numpy as np\n",
    "import matplotlib.pyplot as plt"
   ]
  },
  {
   "cell_type": "code",
   "execution_count": 2,
   "metadata": {},
   "outputs": [],
   "source": [
    "def load_data(path):\n",
    "    input_file = open(path)\n",
    "    output_data = []\n",
    "    for line in input_file:\n",
    "        one_row = line[:-2].split(',')\n",
    "        output_data.append([float(one_row[0]), float(one_row[1])])\n",
    "    return np.array(output_data)"
   ]
  },
  {
   "cell_type": "code",
   "execution_count": 3,
   "metadata": {},
   "outputs": [],
   "source": [
    "def display_convergence(data):\n",
    "    descent_plot_data = np.array(data)\n",
    "    descent_plot = plt.figure().add_subplot(111)\n",
    "    plt.xlabel('Iteration, N')\n",
    "    plt.ylabel('Cost function, J')\n",
    "    plt.title('Cost function convergence')\n",
    "    descent_plot.plot(descent_plot_data[:, 0], descent_plot_data[:, 1])"
   ]
  },
  {
   "cell_type": "code",
   "execution_count": 4,
   "metadata": {},
   "outputs": [],
   "source": [
    "def display_regression(data, hypothesis=None):\n",
    "    x_data = data[:, 0]\n",
    "    y_data = data[:, 1]\n",
    "    plot_regression = plt.figure().add_subplot(111)\n",
    "    plot_regression.scatter(x_data, y_data, s=10)\n",
    "    plt.xlabel('Population size, 10.000')\n",
    "    plt.ylabel('Profit, $10.000')\n",
    "    plt.title('Linear regression')\n",
    "    if hypothesis is not None:\n",
    "        plot_regression.plot(x_data, hypothesis, color='red')\n",
    "    plt.show()"
   ]
  },
  {
   "cell_type": "code",
   "execution_count": 5,
   "metadata": {},
   "outputs": [],
   "source": [
    "def hyp_value(x, theta):\n",
    "    return theta[0] + x * theta[1]"
   ]
  },
  {
   "cell_type": "code",
   "execution_count": 6,
   "metadata": {},
   "outputs": [],
   "source": [
    "def compare_theta(a, b):\n",
    "    delta = 0.000001\n",
    "    return True if abs(a[0] - b[0]) < delta and abs(a[1] - b[1]) < delta else False"
   ]
  },
  {
   "cell_type": "code",
   "execution_count": 7,
   "metadata": {},
   "outputs": [],
   "source": [
    "def compute_cost_function(x_data, y_data, theta):\n",
    "    coefficient = 0.5 / len(x_data)\n",
    "    hyp_data = np.array([hyp_value(x, theta) for x in x_data])\n",
    "    return sum(((y_data - hyp_data) ** 2)) * coefficient"
   ]
  },
  {
   "cell_type": "code",
   "execution_count": 8,
   "metadata": {},
   "outputs": [],
   "source": [
    "def compute_partial_derivative(func, theta, theta_zero=False):\n",
    "    result = 0.0\n",
    "    for key in func:\n",
    "        temp_sum = hyp_value(key, theta) - func[key]\n",
    "        result += temp_sum if theta_zero else temp_sum * key\n",
    "\n",
    "    return result / len(func)"
   ]
  },
  {
   "cell_type": "code",
   "execution_count": 9,
   "metadata": {},
   "outputs": [],
   "source": [
    "def gradient_step(func, theta, alpha):\n",
    "    theta_zero = theta[0] - alpha * compute_partial_derivative(func, theta, True)\n",
    "    theta_one = theta[1] - alpha * compute_partial_derivative(func, theta)\n",
    "    theta[0] = theta_zero\n",
    "    theta[1] = theta_one\n",
    "    return theta"
   ]
  },
  {
   "cell_type": "code",
   "execution_count": 10,
   "metadata": {},
   "outputs": [],
   "source": [
    "def gradient_descent(x_data, y_data, theta, alpha, iterations):\n",
    "    temp_dict = dict(zip(x_data, y_data))\n",
    "    prev_theta = list(theta)\n",
    "    convergence_plot_data = []\n",
    "    for i in range(1, iterations):\n",
    "        theta = gradient_step(temp_dict, theta, alpha)\n",
    "        if compare_theta(prev_theta, theta):\n",
    "            print('Estimate iterations: %d' % i)\n",
    "            break\n",
    "\n",
    "        prev_theta = list(theta)\n",
    "        convergence_plot_data.append([i, compute_cost_function(x_data, y_data, theta)])\n",
    "\n",
    "    display_convergence(convergence_plot_data)\n",
    "    return theta"
   ]
  },
  {
   "cell_type": "code",
   "execution_count": 11,
   "metadata": {
    "collapsed": false
   },
   "outputs": [
    {
     "name": "stdout",
     "output_type": "stream",
     "text": [
      "For theta [0, 0] expected cost function result: 32.0\nFor theta [0, 0] computed cost function result: 31.3209\nFor theta [-1, 2] expected cost function result: 54.5\nFor theta [-1, 2] computed cost function result: 55.3490\nStarted gradient descent with theta zero: 0.4438, theta one: 0.6350\nExpected theta zero: -3.6303, theta one: 1.1664 (approximately)\n"
     ]
    },
    {
     "name": "stdout",
     "output_type": "stream",
     "text": [
      "Estimate iterations: 4982\nComputed theta zero: -3.9803, theta one: 1.1894\n"
     ]
    },
    {
     "data": {
      "image/png": "[encoded data removed]",
      "text/plain": [
       "<matplotlib.figure.Figure at 0x22988a8e710>"
      ]
     },
     "metadata": {},
     "output_type": "display_data"
    },
    {
     "data": {
      "image/png": "[encoded data removed]",
      "text/plain": [
       "<matplotlib.figure.Figure at 0x22988c0c4a8>"
      ]
     },
     "metadata": {},
     "output_type": "display_data"
    }
   ],
   "source": [
    "import random\n",
    "\n",
    "\n",
    "def compute_linear_regression():\n",
    "    # loading exercise data\n",
    "    import os\n",
    "    data = load_data(os.path.abspath('demo/init/data/ex1data1.txt'))\n",
    "\n",
    "    # getting separated x and y data for descent and cost function\n",
    "    x_data = data[:, 0]\n",
    "    y_data = data[:, 1]\n",
    "\n",
    "    # testing compute_cost function\n",
    "    print('For theta [0, 0] expected cost function result: 32.0')\n",
    "    print('For theta [0, 0] computed cost function result: %.4f' % compute_cost_function(x_data, y_data, [0, 0]))\n",
    "    print('For theta [-1, 2] expected cost function result: 54.5')\n",
    "    print('For theta [-1, 2] computed cost function result: %.4f' % compute_cost_function(x_data, y_data, [-1, 2]))\n",
    "\n",
    "    # generating random start theta (or coefficients on linear regression)\n",
    "    theta = [random.uniform(0, 1), random.uniform(0, 1)]\n",
    "\n",
    "    # descent speed\n",
    "    # alpha should be between 0.005 and 0.2, or cost function will not converge\n",
    "    # if alpha > 0.2 cost function will increase instead of decrease\n",
    "    # if alpha < 0.005 cost function will never converge faster then in 10.000 iteration\n",
    "    alpha = 0.01\n",
    "\n",
    "    # if cost function not converged, descent will stop after all iterations\n",
    "    iterations = 10000\n",
    "\n",
    "    # computing gradient descent\n",
    "    print('Started gradient descent with theta zero: %.4f, theta one: %.4f' % (theta[0], theta[1]))\n",
    "    print('Expected theta zero: %.4f, theta one: %.4f (approximately)' % (-3.6303, 1.1664))\n",
    "    theta = gradient_descent(x_data, y_data, theta, alpha, iterations)\n",
    "    print('Computed theta zero: %.4f, theta one: %.4f' % (theta[0], theta[1]))\n",
    "\n",
    "    # displaying results\n",
    "    display_regression(data, [hyp_value(x, theta) for x in x_data])\n",
    "\n",
    "compute_linear_regression()"
   ]
  },
  {
   "cell_type": "code",
   "execution_count": null,
   "metadata": {},
   "outputs": [],
   "source": [
    ""
   ]
  }
 ],
 "metadata": {
  "kernelspec": {
   "display_name": "Python 2",
   "language": "python",
   "name": "python2"
  },
  "language_info": {
   "codemirror_mode": {
    "name": "ipython",
    "version": 2.0
   },
   "file_extension": ".py",
   "mimetype": "text/x-python",
   "name": "python",
   "nbconvert_exporter": "python",
   "pygments_lexer": "ipython2",
   "version": "2.7.6"
  }
 },
 "nbformat": 4,
 "nbformat_minor": 0
}