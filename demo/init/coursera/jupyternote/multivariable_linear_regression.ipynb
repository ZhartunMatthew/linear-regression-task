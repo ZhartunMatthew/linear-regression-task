{
 "cells": [
  {
   "cell_type": "code",
   "execution_count": 1,
   "metadata": {
    "collapsed": true
   },
   "outputs": [],
   "source": [
    "import numpy as np\n",
    "import matplotlib.pyplot as plt"
   ]
  },
  {
   "cell_type": "code",
   "execution_count": 2,
   "metadata": {},
   "outputs": [],
   "source": [
    "def load_data(path):\n",
    "    input_file = open(path)\n",
    "    output_data = []\n",
    "    for line in input_file:\n",
    "        one_row = ['1']\n",
    "        one_row += line[:-2].split(',')\n",
    "        output_data.append([float(x) for x in one_row])\n",
    "\n",
    "    print('Input data info.')\n",
    "    print('\\tVariable amount: %d, training set size %d' % (len(output_data[0]) - 1, len(output_data)))\n",
    "    return np.array(output_data)"
   ]
  },
  {
   "cell_type": "code",
   "execution_count": 3,
   "metadata": {},
   "outputs": [],
   "source": [
    "def display_convergence(data):\n",
    "    convergence_plot_data = np.array(data)\n",
    "    convergence_plot = plt.figure().add_subplot(111)\n",
    "    plt.xlabel('Iteration, N')\n",
    "    plt.ylabel('Cost function, J')\n",
    "    plt.title('Cost function convergence')\n",
    "    convergence_plot.plot(convergence_plot_data[:, 0], convergence_plot_data[:, 1])"
   ]
  },
  {
   "cell_type": "code",
   "execution_count": 4,
   "metadata": {},
   "outputs": [],
   "source": [
    "def hyp_value(x, theta):\n",
    "    return sum(np.array(x) * np.array(theta))"
   ]
  },
  {
   "cell_type": "code",
   "execution_count": 5,
   "metadata": {},
   "outputs": [],
   "source": [
    "def compare_theta(a, b):\n",
    "    delta = 0.000001\n",
    "    for i in range(len(a)):\n",
    "        if abs(a[i] - b[i]) > delta:\n",
    "            return False\n",
    "\n",
    "    return True"
   ]
  },
  {
   "cell_type": "code",
   "execution_count": 6,
   "metadata": {},
   "outputs": [],
   "source": [
    "def display_regression_plot(data, hypothesis=None, labels=None):\n",
    "    x_data = data[:, 1]\n",
    "    y_data = data[:, 2]\n",
    "    plot_regression = plt.figure().add_subplot(111)\n",
    "    plot_regression.scatter(x_data, y_data, s=10)\n",
    "\n",
    "    if labels is not None:\n",
    "        plt.xlabel(labels[0])\n",
    "        plt.ylabel(labels[1])\n",
    "        plt.title(labels[2])\n",
    "\n",
    "    if hypothesis is not None:\n",
    "        plot_regression.plot(x_data, hypothesis, color='red')\n",
    "\n",
    "\n",
    "def display_regression_coefficients(theta):\n",
    "    print('\\nCalculated regression coefficients:')\n",
    "    [print('\\tTheta[%d]: %f' % (i, theta[i])) for i in range(len(theta))]"
   ]
  },
  {
   "cell_type": "code",
   "execution_count": 7,
   "metadata": {},
   "outputs": [],
   "source": [
    "def display_results(data, theta, hypothesis=None, labels=None):\n",
    "    display_regression_coefficients(theta)\n",
    "    if len(data[0]) == 3:\n",
    "        display_regression_plot(data, hypothesis, labels)"
   ]
  },
  {
   "cell_type": "code",
   "execution_count": 8,
   "metadata": {},
   "outputs": [],
   "source": [
    "def display_all_plots():\n",
    "    plt.show()"
   ]
  },
  {
   "cell_type": "code",
   "execution_count": 9,
   "metadata": {},
   "outputs": [],
   "source": [
    "def compute_cost_function(x_data, y_data, theta):\n",
    "    coefficient = 0.5 / len(x_data)\n",
    "    hyp_data = np.array([hyp_value(x, theta) for x in x_data])\n",
    "    return sum(((hyp_data - y_data) ** 2)) * coefficient"
   ]
  },
  {
   "cell_type": "code",
   "execution_count": 10,
   "metadata": {},
   "outputs": [],
   "source": [
    "def compute_partial_derivative(x_data, y_data, theta, j):\n",
    "    result = 0.0\n",
    "    for i in range(len(x_data)):\n",
    "        result += (hyp_value(x_data[i], theta) - y_data[i]) * x_data[i][j]\n",
    "\n",
    "    return result / len(x_data)"
   ]
  },
  {
   "cell_type": "code",
   "execution_count": 11,
   "metadata": {},
   "outputs": [],
   "source": [
    "def gradient_step(x_data, y_data, theta, alpha):\n",
    "    return [theta[i] - alpha * compute_partial_derivative(x_data, y_data, theta, i) for i in range(len(theta))]"
   ]
  },
  {
   "cell_type": "code",
   "execution_count": 12,
   "metadata": {},
   "outputs": [],
   "source": [
    "def gradient_descent(x_data, y_data, theta, alpha, iterations):\n",
    "    prev_theta = list(theta)\n",
    "    convergence_plot_data = []\n",
    "    for i in range(1, iterations):\n",
    "        theta = gradient_step(x_data, y_data, theta, alpha)\n",
    "        if compare_theta(prev_theta, theta):\n",
    "            print('\\tEstimated iterations: %d\\n' % i)\n",
    "            break\n",
    "\n",
    "        prev_theta = list(theta)\n",
    "        convergence_plot_data.append([i, compute_cost_function(x_data, y_data, theta)])\n",
    "\n",
    "    if convergence_plot_data:\n",
    "        display_convergence(convergence_plot_data)\n",
    "        \n",
    "    return theta"
   ]
  },
  {
   "cell_type": "code",
   "execution_count": 13,
   "metadata": {},
   "outputs": [],
   "source": [
    "def normalize_all(data):\n",
    "    for i in range(1, len(data[0])):\n",
    "        data[:, i] = scale_normalize(data[:, i])\n",
    "\n",
    "    return data\n",
    "\n",
    "\n",
    "def scale_normalize(lst):\n",
    "    return lst / np.mean(lst)"
   ]
  },
  {
   "cell_type": "code",
   "execution_count": 14,
   "metadata": {},
   "outputs": [],
   "source": [
    "import numpy.linalg as lin\n",
    "\n",
    "\n",
    "def compute_normal_equation(x_data, y_data):\n",
    "    # xT - transposed x-matrix\n",
    "    x_transpose = x_data.transpose()\n",
    "    # X' * X\n",
    "    x_mul = x_transpose @ x_data\n",
    "    # (X' * X) ** (-1)\n",
    "    x_mul_inv = lin.inv(x_mul)\n",
    "    # ((X' * X) ** (-1))' * X'\n",
    "    x_mul_on_transpose = x_mul_inv @ x_transpose\n",
    "    # ((X' * X) ** (-1))' * X' * y\n",
    "    return x_mul_on_transpose @ y_data"
   ]
  },
  {
   "cell_type": "code",
   "execution_count": 16,
   "metadata": {},
   "outputs": [
    {
     "name": "stdout",
     "output_type": "stream",
     "text": [
      "Input data info.\n\tVariable amount: 3, training set size 47\nGradient params.\n\tRandomly generated theta vector: [0 - 0.0711] [1 - 0.6360] [2 - 0.2514] \n\tAlpha:                           0.100000\n\tMax iteration count:             10000\n\nGradient descent started...\n"
     ]
    },
    {
     "name": "stdout",
     "output_type": "stream",
     "text": [
      "\tEstimated iterations: 6987\n\n\nCalculated regression coefficients:\n\tTheta[0]: 8959.841485\n\tTheta[1]: 27851.696104\n\tTheta[2]: -2770.346107\nInput data info.\n\tVariable amount: 3, training set size 47\n\nNormal equation started...\n\nCalculated regression coefficients:\n\tTheta[0]: 8959.841796\n\tTheta[1]: 27851.696210\n\tTheta[2]: -2770.346516\n"
     ]
    },
    {
     "data": {
      "image/png": "[encoded data removed]",
      "text/plain": [
       "<matplotlib.figure.Figure at 0x13b81e22dd8>"
      ]
     },
     "metadata": {},
     "output_type": "display_data"
    }
   ],
   "source": [
    "import random\n",
    "\n",
    "\n",
    "def compute_linear_regression():\n",
    "    data = load_data('demo/init/data/ex1data2.txt')\n",
    "\n",
    "    # getting separated x and y data for descent and cost function\n",
    "    # and normalization x-data\n",
    "    x_data = normalize_all(data[:, :-1])\n",
    "    y_data = data[:,  -1]\n",
    "\n",
    "    # generating random start theta (or coefficients on linear regression)\n",
    "    theta = [random.uniform(0, 1) for i in range(len(x_data[0]))]\n",
    "\n",
    "    # descent speed\n",
    "    # decrease alpha if:\n",
    "    #   - script threw an overflow warning\n",
    "    #   - J-function on plot increase instead of decrease\n",
    "    # increase alpha if:\n",
    "    #   - J-function on plot decrease too slow or looks like linear function\n",
    "    #   - descent finished after first iteration or very fast\n",
    "    #   - descent finished all iterations, but regression looks even not close to true\n",
    "    # for ex1data1.txt alpha = 0.01 is perfect choice (if data not normalize)\n",
    "    # for ex1data2.txt alpha = 0.01 if too big, 10**(-10) - 10**(-7) is better choice (is not normalize)\n",
    "    # if data normalized alpha = 0.1 is perfect choice for both examples\n",
    "    alpha = pow(10, -1)\n",
    "\n",
    "    # if cost function not converged, descent will stop after all iterations\n",
    "    iterations = 10000\n",
    "\n",
    "    # computing gradient descent\n",
    "    print('Gradient params.')\n",
    "    print('\\tRandomly generated theta vector: ', end='')\n",
    "    [print('[%d - %.4f]' % (i, theta[i]), end=' ') for i in range(len(theta))]\n",
    "    print('\\n\\tAlpha:                           %f' % alpha)\n",
    "    print('\\tMax iteration count:             %d' % iterations)\n",
    "    print('\\nGradient descent started...')\n",
    "\n",
    "    # computing gradient descent\n",
    "    theta = gradient_descent(x_data, y_data, theta, alpha, iterations)\n",
    "\n",
    "    # displaying results\n",
    "    # if regression with one variable plot will be displayed\n",
    "    prediction = [hyp_value(x, theta) for x in x_data]\n",
    "    labels = ['X-axis', 'Y-axis', 'Title']\n",
    "    display_results(data, theta, prediction, labels)\n",
    "\n",
    "\n",
    "def compute_regression_normal_equation():\n",
    "    data = load_data('demo/init/data/ex1data2.txt')\n",
    "    # data normalization for normal equation isn't necessary\n",
    "    # this only for comparing results of gradient descent and normal equation\n",
    "    x_data = normalize_all(data[:, :-1])\n",
    "    y_data = data[:,  -1]\n",
    "\n",
    "    print('\\nNormal equation started...')\n",
    "    theta = compute_normal_equation(x_data, y_data)\n",
    "    prediction = [hyp_value(x, theta) for x in x_data]\n",
    "    labels = ['X-axis', 'Y-axis', 'Normal equation']\n",
    "    display_results(data, theta, prediction, labels)\n",
    "\n",
    "\n",
    "compute_linear_regression()\n",
    "compute_regression_normal_equation()\n",
    "display_all_plots()"
   ]
  },
  {
   "cell_type": "code",
   "execution_count": null,
   "metadata": {},
   "outputs": [],
   "source": [
    ""
   ]
  }
 ],
 "metadata": {
  "kernelspec": {
   "display_name": "Python 2",
   "language": "python",
   "name": "python2"
  },
  "language_info": {
   "codemirror_mode": {
    "name": "ipython",
    "version": 2.0
   },
   "file_extension": ".py",
   "mimetype": "text/x-python",
   "name": "python",
   "nbconvert_exporter": "python",
   "pygments_lexer": "ipython2",
   "version": "2.7.6"
  }
 },
 "nbformat": 4,
 "nbformat_minor": 0
}