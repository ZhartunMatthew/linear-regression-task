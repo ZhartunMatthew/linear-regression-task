{
 "cells": [
  {
   "cell_type": "code",
   "execution_count": 11,
   "metadata": {
    "collapsed": true
   },
   "outputs": [],
   "source": [
    "import scipy.io as sio\n",
    "import numpy as np\n",
    "from time import time\n",
    "from os.path import abspath"
   ]
  },
  {
   "cell_type": "code",
   "execution_count": 12,
   "metadata": {},
   "outputs": [],
   "source": [
    "def load_data():\n",
    "    data = sio.loadmat(abspath(\"demo\\init\\coursera\\\\regularizedlinearregression\\data\\ex5data1.mat\"))\n",
    "    x_training = data['X']\n",
    "    y_training = data['y']\n",
    "    \n",
    "    x_validation = data['Xval']\n",
    "    y_validation = data['yval']\n",
    "    \n",
    "    x_test = data['Xtest']\n",
    "    y_test = data['ytest']\n",
    "    \n",
    "    return [[x_training, y_training], [x_validation, y_validation], [x_test, y_test]]"
   ]
  },
  {
   "cell_type": "code",
   "execution_count": null,
   "metadata": {},
   "outputs": [],
   "source": []
  }
 ],
 "metadata": {
  "kernelspec": {
   "display_name": "Python 2",
   "language": "python",
   "name": "python2"
  },
  "language_info": {
   "codemirror_mode": {
    "name": "ipython",
    "version": 2
   },
   "file_extension": ".py",
   "mimetype": "text/x-python",
   "name": "python",
   "nbconvert_exporter": "python",
   "pygments_lexer": "ipython2",
   "version": "2.7.6"
  }
 },
 "nbformat": 4,
 "nbformat_minor": 0
}
