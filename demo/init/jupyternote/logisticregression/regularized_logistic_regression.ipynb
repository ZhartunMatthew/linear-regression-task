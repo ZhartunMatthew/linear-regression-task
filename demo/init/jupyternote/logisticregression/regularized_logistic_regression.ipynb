{
 "cells": [
  {
   "cell_type": "code",
   "execution_count": 54,
   "metadata": {
    "collapsed": true
   },
   "outputs": [],
   "source": [
    "import numpy as np\n",
    "import matplotlib.pyplot as plt\n",
    "from os.path import abspath\n",
    "import random\n",
    "import time"
   ]
  },
  {
   "cell_type": "code",
   "execution_count": 55,
   "metadata": {},
   "outputs": [],
   "source": [
    "def load_data(path):\n",
    "    input_file = open(path)\n",
    "    output_data = []\n",
    "    for line in input_file:\n",
    "        one_row = line.split(',')\n",
    "        output_data.append([float(x) for x in one_row])\n",
    "\n",
    "    print('Input data info.')\n",
    "    print('\\tVariable amount: %d, training set size %d' % (len(output_data[0]) - 1, len(output_data)))\n",
    "    return np.array(output_data)"
   ]
  },
  {
   "cell_type": "code",
   "execution_count": 56,
   "metadata": {},
   "outputs": [],
   "source": [
    "def display_logistic_data(data, labels=None, decision_boundary=None):\n",
    "    a_data = data[data[:, -1] == 0]\n",
    "    b_data = data[data[:, -1] == 1]\n",
    "\n",
    "    plot_regression = plt.figure().add_subplot(111)\n",
    "    plot_regression.scatter(a_data[:, 0], a_data[:, 1], s=10, color='blue')\n",
    "    plot_regression.scatter(b_data[:, 0], b_data[:, 1], s=10, color='red')\n",
    "\n",
    "    if labels is not None:\n",
    "        plt.xlabel(labels[0])\n",
    "        plt.ylabel(labels[1])\n",
    "        plt.title(labels[2])\n",
    "    \n",
    "    if decision_boundary is not None:\n",
    "        plot_regression.scatter(decision_boundary[:, 0], decision_boundary[:, 1], s=3, color='black')"
   ]
  },
  {
   "cell_type": "code",
   "execution_count": 78,
   "metadata": {},
   "outputs": [],
   "source": [
    "def generate_decision_boundary(theta):\n",
    "    decision_boundary = []\n",
    "    delta = 0.004\n",
    "    for i in np.arange(-0.75, 1.5, 0.005):\n",
    "        for j in np.arange(-0.75, 1.5, 0.005):\n",
    "            if 0.5 - delta <= hyp_value(map_two_variables_to_polynom([i, j], 6), theta) <= 0.5 + delta:\n",
    "                decision_boundary.append([i, j])\n",
    "                \n",
    "    return np.array(decision_boundary)"
   ]
  },
  {
   "cell_type": "code",
   "execution_count": 58,
   "metadata": {},
   "outputs": [],
   "source": [
    "def display_predicted(data, theta, labels=None, decision_boundary=None):\n",
    "    a_data = []\n",
    "    b_data = []\n",
    "    for item in data:\n",
    "        if hyp_value(item, theta) > 0.5:\n",
    "            a_data.append(item)\n",
    "        else:\n",
    "            b_data.append(item)\n",
    "            \n",
    "    a_data = np.array(a_data)\n",
    "    b_data = np.array(b_data)\n",
    "\n",
    "    plot_prediction = plt.figure().add_subplot(111)\n",
    "    plot_prediction.scatter(a_data[:, 1], a_data[:, 2], s=10, color='green')\n",
    "    plot_prediction.scatter(b_data[:, 1], b_data[:, 2], s=10, color='magenta')\n",
    "    \n",
    "    if labels is not None:\n",
    "        plt.xlabel(labels[0])\n",
    "        plt.ylabel(labels[1])\n",
    "        plt.title(labels[2])\n",
    "    \n",
    "    if decision_boundary is not None:\n",
    "        plot_prediction.scatter(decision_boundary[:, 0], decision_boundary[:, 1], s=3, color='black')"
   ]
  },
  {
   "cell_type": "code",
   "execution_count": 59,
   "metadata": {},
   "outputs": [],
   "source": [
    "def display_all_plots():\n",
    "    plt.show()"
   ]
  },
  {
   "cell_type": "code",
   "execution_count": 60,
   "metadata": {},
   "outputs": [],
   "source": [
    "def compare_theta(a, b):\n",
    "    delta = 0.0001\n",
    "    for i in range(len(a)):\n",
    "        if abs(a[i] - b[i]) > delta:\n",
    "            return False\n",
    "\n",
    "    return True"
   ]
  },
  {
   "cell_type": "code",
   "execution_count": 61,
   "metadata": {},
   "outputs": [],
   "source": [
    "def display_convergence(data):\n",
    "    convergence_plot_data = np.array(data)\n",
    "    convergence_plot = plt.figure().add_subplot(111)\n",
    "    plt.xlabel('Iteration, N')\n",
    "    plt.ylabel('Cost function, J')\n",
    "    plt.title('Cost function convergence')\n",
    "    convergence_plot.plot(convergence_plot_data[:, 0], convergence_plot_data[:, 1])"
   ]
  },
  {
   "cell_type": "code",
   "execution_count": 62,
   "metadata": {},
   "outputs": [],
   "source": [
    "def sigmoid(x):\n",
    "    return 1.0 / (1.0 + np.exp(-x))\n",
    "\n",
    "\n",
    "def hyp_value(x, theta):\n",
    "    x = np.array(x)\n",
    "    theta = np.array(theta)\n",
    "    return sigmoid((x * theta).sum())"
   ]
  },
  {
   "cell_type": "code",
   "execution_count": 63,
   "metadata": {},
   "outputs": [],
   "source": [
    "def map_two_variables_to_polynom(variables, power):\n",
    "    polynom = [1]\n",
    "    for i in range(1, power + 1):\n",
    "        [polynom.append(variables[0] ** (i - j) * variables[1] ** j) for j in range(i+1)]\n",
    "\n",
    "    return polynom"
   ]
  },
  {
   "cell_type": "code",
   "execution_count": 64,
   "metadata": {},
   "outputs": [],
   "source": [
    "def calculate_regularize_coefficient(lm, m, theta):\n",
    "    coefficient = lm / (2.0 * m)\n",
    "    buf = sum(np.array(theta) * np.array(theta))\n",
    "    return coefficient * buf"
   ]
  },
  {
   "cell_type": "code",
   "execution_count": 65,
   "metadata": {},
   "outputs": [],
   "source": [
    "def compute_cost_function(x_data, y_data, theta, lm):\n",
    "    temp_sum = 0.0\n",
    "    coefficient = -1 / len(x_data)\n",
    "    fake_zero = 10 ** (-9)\n",
    "    \n",
    "    regularize_coefficient = calculate_regularize_coefficient(lm, len(x_data), theta)\n",
    "    for i in range(len(x_data) - 1):\n",
    "        hyp = hyp_value(x_data[i], theta)\n",
    "        temp_sum += y_data[i] * np.log(hyp if hyp != 0.0 else fake_zero) \\\n",
    "            + (1.0 - y_data[i]) * np.log(1 - hyp if 1 - hyp != 0.0 else fake_zero)\n",
    " \n",
    "    return temp_sum * coefficient + regularize_coefficient"
   ]
  },
  {
   "cell_type": "code",
   "execution_count": 66,
   "metadata": {},
   "outputs": [],
   "source": [
    "def compute_partial_derivative(x_data, y_data, theta, j, lm):\n",
    "    result = 0.0\n",
    "    m = len(x_data)\n",
    "    reg_coefficient_for_derivative = lm * theta[j] / m \n",
    "    \n",
    "    for i in range(m):\n",
    "        result += (hyp_value(x_data[i], theta) - y_data[i]) * x_data[i][j]\n",
    "\n",
    "    return result / m + reg_coefficient_for_derivative"
   ]
  },
  {
   "cell_type": "code",
   "execution_count": 67,
   "metadata": {},
   "outputs": [],
   "source": [
    "def gradient_step(x, y, theta, alpha, lm):\n",
    "    return [theta[i] - alpha * compute_partial_derivative(x, y, theta, i, lm) for i in range(len(theta))]"
   ]
  },
  {
   "cell_type": "code",
   "execution_count": 68,
   "metadata": {},
   "outputs": [],
   "source": [
    "def gradient_descent(x_data, y_data, theta, alpha, iterations, lm):\n",
    "    prev_theta = list(theta)\n",
    "    convergence_plot_data = []\n",
    "    for i in range(1, iterations):\n",
    "        theta = gradient_step(x_data, y_data, theta, alpha, lm)\n",
    "        if compare_theta(prev_theta, theta):\n",
    "            print('\\tEstimated iterations: %d' % i)\n",
    "            break\n",
    "\n",
    "        prev_theta = list(theta)\n",
    "        convergence_plot_data.append([i, compute_cost_function(x_data, y_data, theta, lm)])\n",
    "    \n",
    "    if convergence_plot_data:\n",
    "        display_convergence(convergence_plot_data)\n",
    "    \n",
    "    return theta"
   ]
  },
  {
   "cell_type": "code",
   "execution_count": 84,
   "metadata": {},
   "outputs": [
    {
     "name": "stdout",
     "output_type": "stream",
     "text": [
      "Input data info.\n\tVariable amount: 2, training set size 118\nGradient params.\n\tRandomly generated theta vector (first three): [0 - 0.3043] [1 - 0.0460] [2 - 0.7492] ...\n\tAlpha:                           2.000000\n\tMax iteration count:             10000\n\nGradient descent started...\n"
     ]
    },
    {
     "name": "stdout",
     "output_type": "stream",
     "text": [
      "\tEstimated iterations: 267\n\tEstimate time: 7.91 sec\nGradient descent finished.\n\nGenerating boundary started...\n"
     ]
    },
    {
     "name": "stdout",
     "output_type": "stream",
     "text": [
      "\tEstimate time: 5.84 sec\n\nGenerating boundary finished.\n"
     ]
    },
    {
     "data": {
      "image/png": "[encoded data removed]",
      "text/plain": [
       "<matplotlib.figure.Figure at 0x2d7bdf5e128>"
      ]
     },
     "metadata": {},
     "output_type": "display_data"
    },
    {
     "data": {
      "image/png": "[encoded data removed]",
      "text/plain": [
       "<matplotlib.figure.Figure at 0x2d7be089eb8>"
      ]
     },
     "metadata": {},
     "output_type": "display_data"
    },
    {
     "data": {
      "image/png": "[encoded data removed]",
      "text/plain": [
       "<matplotlib.figure.Figure at 0x2d7bdb394a8>"
      ]
     },
     "metadata": {},
     "output_type": "display_data"
    }
   ],
   "source": [
    "def compute_regularized_logistic_regression():\n",
    "    data = load_data(abspath('demo\\init\\coursera\\logisticregression\\data\\ex2data2.txt'))\n",
    "    \n",
    "    # data normalization to speed up gradient descent\n",
    "    x_data = data[:, :-1]\n",
    "    x_data = [map_two_variables_to_polynom(x_data[i], 6) for i in range(len(x_data))]\n",
    "    y_data = data[:,  -1]\n",
    "    \n",
    "    theta = np.array([random.uniform(0, 1) for i in range(len(x_data[0]))])\n",
    "    alpha = 2.0\n",
    "    iterations = 10000\n",
    "    \n",
    "    # regression regularize coefficient using for solve underfitting/overfitting issue  \n",
    "    # lm = 0 - overfitting error, hypothesis perfectly fit only to the training data\n",
    "    # for real data this hypothesis will predict wrong prediction \n",
    "    # lm = 1 - cool decision boundary, fit to the training set, and produce probably the most fitted prediction \n",
    "    # lm = 20 - underfitting issue\n",
    "    lm = 1\n",
    "\n",
    "    print('Gradient params.')\n",
    "    print('\\tRandomly generated theta vector (first three): ', end='')\n",
    "    [print('[%d - %.4f]' % (i, theta[i]), end=' ') for i in range(3)]\n",
    "    print('...\\n\\tAlpha:                           %f' % alpha)\n",
    "    print('\\tMax iteration count:             %d' % iterations)\n",
    "    \n",
    "    print('\\nGradient descent started...')\n",
    "    start_time = time.time()\n",
    "    theta = gradient_descent(x_data, y_data, theta, alpha, iterations, lm)\n",
    "    end_time = time.time() - start_time\n",
    "    print('\\tEstimate time: %.2f sec' % end_time)\n",
    "    print('Gradient descent finished.')\n",
    "    \n",
    "    print('\\nGenerating boundary started...')\n",
    "    start_time = time.time()\n",
    "    decision_boundary = generate_decision_boundary(theta)\n",
    "    end_time = time.time() - start_time\n",
    "    print('\\tEstimate time: %.2f sec' % end_time)\n",
    "    print('\\nGenerating boundary finished.')\n",
    "    \n",
    "    display_logistic_data(data, ['Microchip Test 1', \n",
    "                                 'Microchip Test 2', \n",
    "                                 'Chip testing (painted based on input data)'], decision_boundary)\n",
    "    \n",
    "    display_predicted(x_data, theta, ['Microchip Test 1', \n",
    "                                      'Microchip Test 2', \n",
    "                                      'Chip testing (painted based on prediction)'], decision_boundary)\n",
    "\n",
    "compute_regularized_logistic_regression()\n",
    "display_all_plots()"
   ]
  },
  {
   "cell_type": "code",
   "execution_count": null,
   "metadata": {},
   "outputs": [],
   "source": [
    ""
   ]
  }
 ],
 "metadata": {
  "kernelspec": {
   "display_name": "Python 2",
   "language": "python",
   "name": "python2"
  },
  "language_info": {
   "codemirror_mode": {
    "name": "ipython",
    "version": 2.0
   },
   "file_extension": ".py",
   "mimetype": "text/x-python",
   "name": "python",
   "nbconvert_exporter": "python",
   "pygments_lexer": "ipython2",
   "version": "2.7.6"
  }
 },
 "nbformat": 4,
 "nbformat_minor": 0
}