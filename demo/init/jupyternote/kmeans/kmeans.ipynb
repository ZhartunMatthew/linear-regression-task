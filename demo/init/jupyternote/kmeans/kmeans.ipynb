{
 "cells": [
  {
   "cell_type": "code",
   "execution_count": 2,
   "metadata": {},
   "outputs": [],
   "source": [
    "from os.path import abspath\n",
    "import numpy as np\n",
    "import matplotlib.pyplot as plt\n",
    "from random import uniform as urandom"
   ]
  },
  {
   "cell_type": "code",
   "execution_count": 3,
   "metadata": {
    "collapsed": true
   },
   "outputs": [],
   "source": [
    "def load_data(path, coefficient=1):\n",
    "    output_data = []\n",
    "    with open(path) as input_file:\n",
    "        for line in input_file:\n",
    "            one_row = line.split(',')\n",
    "            output_data.append([float(one_row[0]) * coefficient, float(one_row[1]) * coefficient, -1.0])\n",
    "            \n",
    "    return np.array(output_data)"
   ]
  },
  {
   "cell_type": "code",
   "execution_count": 4,
   "metadata": {},
   "outputs": [],
   "source": [
    "def generate_centroid(size, min_val, max_val):\n",
    "    return [urandom(min_val, max_val) for _ in range(size)]"
   ]
  },
  {
   "cell_type": "code",
   "execution_count": 5,
   "metadata": {},
   "outputs": [],
   "source": [
    "def generate_random_centroids(centroids_amount, size, min_val=0.0, max_val=1.0):\n",
    "    return np.array([generate_centroid(size, min_val, max_val) for _ in range(centroids_amount)])"
   ]
  },
  {
   "cell_type": "code",
   "execution_count": 6,
   "metadata": {},
   "outputs": [],
   "source": [
    "def compare_centroids(prev_centroids, new_centroids):\n",
    "    for item in np.absolute(prev_centroids.flatten() - new_centroids.flatten()):\n",
    "        if item > 0.0001:\n",
    "            return False\n",
    "        \n",
    "    return True"
   ]
  },
  {
   "cell_type": "code",
   "execution_count": 7,
   "metadata": {},
   "outputs": [],
   "source": [
    "def calculate_closets_centroid(sample, centroids):\n",
    "    distances = [np.linalg.norm(sample - centroid) for centroid in centroids]\n",
    "    return np.argmin(distances)"
   ]
  },
  {
   "cell_type": "code",
   "execution_count": 8,
   "metadata": {},
   "outputs": [],
   "source": [
    "def assign_centroids(data, centroids):\n",
    "    for i in range(len(data)):\n",
    "        data[i][-1] = calculate_closets_centroid(data[i][:-1], centroids)\n",
    "\n",
    "    return [data, centroids]"
   ]
  },
  {
   "cell_type": "code",
   "execution_count": 9,
   "metadata": {},
   "outputs": [],
   "source": [
    "def calculate_new_centroid(cluster_data):\n",
    "    return np.array([np.mean(cluster_data[:, i]) for i in range(len(cluster_data[0]))])"
   ]
  },
  {
   "cell_type": "code",
   "execution_count": 10,
   "metadata": {},
   "outputs": [],
   "source": [
    "def recalculate_centroids(labeled_data, clusters_amount, old_centroids):\n",
    "    output = np.array([[0.0, 0.0]])\n",
    "    for i in range(clusters_amount):\n",
    "        cluster_data = np.array([sample for sample in labeled_data if sample[-1] == float(i)])\n",
    "        if len(cluster_data) > 0:\n",
    "            output = np.vstack((output, calculate_new_centroid(cluster_data)[:-1]))\n",
    "        else:\n",
    "            output = np.vstack((output, old_centroids[i]))\n",
    "            \n",
    "    return output[1:]"
   ]
  },
  {
   "cell_type": "code",
   "execution_count": 11,
   "metadata": {},
   "outputs": [],
   "source": [
    "def run_kmeans(data, clusters_amount):\n",
    "    min_val = data[:, :-1].min()\n",
    "    max_val = data[:, :-1].max()\n",
    "    centroids = generate_random_centroids(clusters_amount, len(data[0]) - 1, min_val, max_val)\n",
    "    centroids_history = [centroids]\n",
    "    \n",
    "    while True:\n",
    "        output = assign_centroids(data, centroids)\n",
    "        centroids = recalculate_centroids(output[0], clusters_amount, centroids)\n",
    "        centroids_history.append(centroids)\n",
    "        if compare_centroids(output[1], centroids):\n",
    "            break\n",
    "        \n",
    "    return [data, np.array(centroids_history)]"
   ]
  },
  {
   "cell_type": "code",
   "execution_count": 25,
   "metadata": {},
   "outputs": [],
   "source": [
    "def plot_data(data, centroid_history, cluster_amount):\n",
    "    colors = ['blue', 'green', 'red', 'magenta', 'yellow', 'gray']\n",
    "    centroids_color = ['red', 'magenta', 'green', 'yellow', 'blue', 'black']\n",
    "    \n",
    "    plot = plt.figure(figsize=(7, 7)).add_subplot(111)\n",
    "    for i in range(cluster_amount):\n",
    "        cluster_data = np.array([sample for sample in data if sample[-1] == float(i)])\n",
    "        plot.scatter(cluster_data[:, 0], cluster_data[:, 1], s=10, color=colors[i])\n",
    "    \n",
    "    plot_centroids_history(plot, centroid_history, centroids_color)\n",
    "        \n",
    "    plt.show()"
   ]
  },
  {
   "cell_type": "code",
   "execution_count": 26,
   "metadata": {},
   "outputs": [],
   "source": [
    "def plot_centroids_history(plot, centroid_history, centroids_color):\n",
    "    for i in range(len(centroid_history[0])):\n",
    "        x_data = []\n",
    "        y_data = []\n",
    "        for j in range(len(centroid_history)):\n",
    "            x_data.append(centroid_history[j][i][0])\n",
    "            y_data.append(centroid_history[j][i][1])\n",
    "\n",
    "        plot.plot(x_data, y_data, color=centroids_color[i])\n",
    "        plot.scatter(x_data, y_data, color=centroids_color[i])"
   ]
  },
  {
   "cell_type": "code",
   "execution_count": 27,
   "metadata": {
    "collapsed": false
   },
   "outputs": [
    {
     "data": {
      "image/png": "[encoded data removed]",
      "text/plain": [
       "<matplotlib.figure.Figure at 0x1d5a00942e8>"
      ]
     },
     "metadata": {},
     "output_type": "display_data"
    }
   ],
   "source": [
    "def kmeans(clusters_amount, file_path):\n",
    "    data = load_data(file_path, coefficient=10)\n",
    "    output_data = run_kmeans(data, clusters_amount)\n",
    "    plot_data(output_data[0], output_data[1], clusters_amount)\n",
    "    \n",
    "   \n",
    "kmeans(3, abspath('demo\\init\\coursera\\kmeans\\data\\kmeans_dataset.csv'))"
   ]
  },
  {
   "cell_type": "code",
   "execution_count": 52,
   "metadata": {},
   "outputs": [],
   "source": []
  },
  {
   "cell_type": "code",
   "execution_count": null,
   "metadata": {},
   "outputs": [],
   "source": []
  }
 ],
 "metadata": {
  "kernelspec": {
   "display_name": "Python 2",
   "language": "python",
   "name": "python2"
  },
  "language_info": {
   "codemirror_mode": {
    "name": "ipython",
    "version": 2
   },
   "file_extension": ".py",
   "mimetype": "text/x-python",
   "name": "python",
   "nbconvert_exporter": "python",
   "pygments_lexer": "ipython2",
   "version": "2.7.6"
  }
 },
 "nbformat": 4,
 "nbformat_minor": 0
}
